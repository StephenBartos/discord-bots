{
 "cells": [
  {
   "cell_type": "code",
   "execution_count": 2,
   "id": "7d320bc5",
   "metadata": {},
   "outputs": [],
   "source": [
    "import pandas as pd\n",
    "from datetime import datetime, timezone\n",
    "from sqlalchemy import create_engine\n",
    "from uuid import uuid4"
   ]
  },
  {
   "cell_type": "code",
   "execution_count": 3,
   "id": "10ab72fc",
   "metadata": {},
   "outputs": [],
   "source": [
    "# Fill in your DB info\n",
    "user_name = \"postgres\"\n",
    "password = \"password\"\n",
    "db_name = \"postgres\"\n",
    "db_ip = \"localhost\"\n",
    "port = \"5432\"\n",
    "# Connect to the database\n",
    "engine = create_engine(f'postgresql://{user_name}:{password}@{db_ip}:{port}/{db_name}')"
   ]
  },
  {
   "cell_type": "code",
   "execution_count": 4,
   "id": "195b170a",
   "metadata": {},
   "outputs": [
    {
     "ename": "FileNotFoundError",
     "evalue": "[Errno 2] No such file or directory: 'queue.csv'",
     "output_type": "error",
     "traceback": [
      "\u001b[0;31m---------------------------------------------------------------------------\u001b[0m",
      "\u001b[0;31mFileNotFoundError\u001b[0m                         Traceback (most recent call last)",
      "Cell \u001b[0;32mIn[4], line 8\u001b[0m\n\u001b[1;32m      3\u001b[0m df_rotation \u001b[38;5;241m=\u001b[39m pd\u001b[38;5;241m.\u001b[39mDataFrame(\n\u001b[1;32m      4\u001b[0m     data\u001b[38;5;241m=\u001b[39m[(\u001b[38;5;124m\"\u001b[39m\u001b[38;5;124mCTF\u001b[39m\u001b[38;5;124m\"\u001b[39m, datetime\u001b[38;5;241m.\u001b[39mnow(timezone\u001b[38;5;241m.\u001b[39mutc), rotation_id, \u001b[38;5;28;01mFalse\u001b[39;00m)],\n\u001b[1;32m      5\u001b[0m     columns\u001b[38;5;241m=\u001b[39m[\u001b[38;5;124m'\u001b[39m\u001b[38;5;124mname\u001b[39m\u001b[38;5;124m'\u001b[39m, \u001b[38;5;124m'\u001b[39m\u001b[38;5;124mcreated_at\u001b[39m\u001b[38;5;124m'\u001b[39m, \u001b[38;5;124m'\u001b[39m\u001b[38;5;124mid\u001b[39m\u001b[38;5;124m'\u001b[39m, \u001b[38;5;124m'\u001b[39m\u001b[38;5;124mis_random\u001b[39m\u001b[38;5;124m'\u001b[39m],\n\u001b[1;32m      6\u001b[0m )\n\u001b[1;32m      7\u001b[0m \u001b[38;5;66;03m# Load each csv file into a DataFrame\u001b[39;00m\n\u001b[0;32m----> 8\u001b[0m df_queue \u001b[38;5;241m=\u001b[39m \u001b[43mpd\u001b[49m\u001b[38;5;241;43m.\u001b[39;49m\u001b[43mread_csv\u001b[49m\u001b[43m(\u001b[49m\u001b[38;5;124;43m'\u001b[39;49m\u001b[38;5;124;43mqueue.csv\u001b[39;49m\u001b[38;5;124;43m'\u001b[39;49m\u001b[43m,\u001b[49m\u001b[43m \u001b[49m\u001b[43mkeep_default_na\u001b[49m\u001b[38;5;241;43m=\u001b[39;49m\u001b[38;5;28;43;01mFalse\u001b[39;49;00m\u001b[43m)\u001b[49m\n\u001b[1;32m      9\u001b[0m df_queue_region \u001b[38;5;241m=\u001b[39m pd\u001b[38;5;241m.\u001b[39mread_csv(\u001b[38;5;124m'\u001b[39m\u001b[38;5;124mqueue_region.csv\u001b[39m\u001b[38;5;124m'\u001b[39m, keep_default_na\u001b[38;5;241m=\u001b[39m\u001b[38;5;28;01mFalse\u001b[39;00m)\n\u001b[1;32m     10\u001b[0m df_player \u001b[38;5;241m=\u001b[39m pd\u001b[38;5;241m.\u001b[39mread_csv(\u001b[38;5;124m'\u001b[39m\u001b[38;5;124mplayer.csv\u001b[39m\u001b[38;5;124m'\u001b[39m,  keep_default_na\u001b[38;5;241m=\u001b[39m\u001b[38;5;28;01mFalse\u001b[39;00m)\n",
      "File \u001b[0;32m~/discord-bots/.venv/lib/python3.10/site-packages/pandas/io/parsers/readers.py:1024\u001b[0m, in \u001b[0;36mread_csv\u001b[0;34m(filepath_or_buffer, sep, delimiter, header, names, index_col, usecols, dtype, engine, converters, true_values, false_values, skipinitialspace, skiprows, skipfooter, nrows, na_values, keep_default_na, na_filter, verbose, skip_blank_lines, parse_dates, infer_datetime_format, keep_date_col, date_parser, date_format, dayfirst, cache_dates, iterator, chunksize, compression, thousands, decimal, lineterminator, quotechar, quoting, doublequote, escapechar, comment, encoding, encoding_errors, dialect, on_bad_lines, delim_whitespace, low_memory, memory_map, float_precision, storage_options, dtype_backend)\u001b[0m\n\u001b[1;32m   1011\u001b[0m kwds_defaults \u001b[38;5;241m=\u001b[39m _refine_defaults_read(\n\u001b[1;32m   1012\u001b[0m     dialect,\n\u001b[1;32m   1013\u001b[0m     delimiter,\n\u001b[0;32m   (...)\u001b[0m\n\u001b[1;32m   1020\u001b[0m     dtype_backend\u001b[38;5;241m=\u001b[39mdtype_backend,\n\u001b[1;32m   1021\u001b[0m )\n\u001b[1;32m   1022\u001b[0m kwds\u001b[38;5;241m.\u001b[39mupdate(kwds_defaults)\n\u001b[0;32m-> 1024\u001b[0m \u001b[38;5;28;01mreturn\u001b[39;00m \u001b[43m_read\u001b[49m\u001b[43m(\u001b[49m\u001b[43mfilepath_or_buffer\u001b[49m\u001b[43m,\u001b[49m\u001b[43m \u001b[49m\u001b[43mkwds\u001b[49m\u001b[43m)\u001b[49m\n",
      "File \u001b[0;32m~/discord-bots/.venv/lib/python3.10/site-packages/pandas/io/parsers/readers.py:618\u001b[0m, in \u001b[0;36m_read\u001b[0;34m(filepath_or_buffer, kwds)\u001b[0m\n\u001b[1;32m    615\u001b[0m _validate_names(kwds\u001b[38;5;241m.\u001b[39mget(\u001b[38;5;124m\"\u001b[39m\u001b[38;5;124mnames\u001b[39m\u001b[38;5;124m\"\u001b[39m, \u001b[38;5;28;01mNone\u001b[39;00m))\n\u001b[1;32m    617\u001b[0m \u001b[38;5;66;03m# Create the parser.\u001b[39;00m\n\u001b[0;32m--> 618\u001b[0m parser \u001b[38;5;241m=\u001b[39m \u001b[43mTextFileReader\u001b[49m\u001b[43m(\u001b[49m\u001b[43mfilepath_or_buffer\u001b[49m\u001b[43m,\u001b[49m\u001b[43m \u001b[49m\u001b[38;5;241;43m*\u001b[39;49m\u001b[38;5;241;43m*\u001b[39;49m\u001b[43mkwds\u001b[49m\u001b[43m)\u001b[49m\n\u001b[1;32m    620\u001b[0m \u001b[38;5;28;01mif\u001b[39;00m chunksize \u001b[38;5;129;01mor\u001b[39;00m iterator:\n\u001b[1;32m    621\u001b[0m     \u001b[38;5;28;01mreturn\u001b[39;00m parser\n",
      "File \u001b[0;32m~/discord-bots/.venv/lib/python3.10/site-packages/pandas/io/parsers/readers.py:1618\u001b[0m, in \u001b[0;36mTextFileReader.__init__\u001b[0;34m(self, f, engine, **kwds)\u001b[0m\n\u001b[1;32m   1615\u001b[0m     \u001b[38;5;28mself\u001b[39m\u001b[38;5;241m.\u001b[39moptions[\u001b[38;5;124m\"\u001b[39m\u001b[38;5;124mhas_index_names\u001b[39m\u001b[38;5;124m\"\u001b[39m] \u001b[38;5;241m=\u001b[39m kwds[\u001b[38;5;124m\"\u001b[39m\u001b[38;5;124mhas_index_names\u001b[39m\u001b[38;5;124m\"\u001b[39m]\n\u001b[1;32m   1617\u001b[0m \u001b[38;5;28mself\u001b[39m\u001b[38;5;241m.\u001b[39mhandles: IOHandles \u001b[38;5;241m|\u001b[39m \u001b[38;5;28;01mNone\u001b[39;00m \u001b[38;5;241m=\u001b[39m \u001b[38;5;28;01mNone\u001b[39;00m\n\u001b[0;32m-> 1618\u001b[0m \u001b[38;5;28mself\u001b[39m\u001b[38;5;241m.\u001b[39m_engine \u001b[38;5;241m=\u001b[39m \u001b[38;5;28;43mself\u001b[39;49m\u001b[38;5;241;43m.\u001b[39;49m\u001b[43m_make_engine\u001b[49m\u001b[43m(\u001b[49m\u001b[43mf\u001b[49m\u001b[43m,\u001b[49m\u001b[43m \u001b[49m\u001b[38;5;28;43mself\u001b[39;49m\u001b[38;5;241;43m.\u001b[39;49m\u001b[43mengine\u001b[49m\u001b[43m)\u001b[49m\n",
      "File \u001b[0;32m~/discord-bots/.venv/lib/python3.10/site-packages/pandas/io/parsers/readers.py:1878\u001b[0m, in \u001b[0;36mTextFileReader._make_engine\u001b[0;34m(self, f, engine)\u001b[0m\n\u001b[1;32m   1876\u001b[0m     \u001b[38;5;28;01mif\u001b[39;00m \u001b[38;5;124m\"\u001b[39m\u001b[38;5;124mb\u001b[39m\u001b[38;5;124m\"\u001b[39m \u001b[38;5;129;01mnot\u001b[39;00m \u001b[38;5;129;01min\u001b[39;00m mode:\n\u001b[1;32m   1877\u001b[0m         mode \u001b[38;5;241m+\u001b[39m\u001b[38;5;241m=\u001b[39m \u001b[38;5;124m\"\u001b[39m\u001b[38;5;124mb\u001b[39m\u001b[38;5;124m\"\u001b[39m\n\u001b[0;32m-> 1878\u001b[0m \u001b[38;5;28mself\u001b[39m\u001b[38;5;241m.\u001b[39mhandles \u001b[38;5;241m=\u001b[39m \u001b[43mget_handle\u001b[49m\u001b[43m(\u001b[49m\n\u001b[1;32m   1879\u001b[0m \u001b[43m    \u001b[49m\u001b[43mf\u001b[49m\u001b[43m,\u001b[49m\n\u001b[1;32m   1880\u001b[0m \u001b[43m    \u001b[49m\u001b[43mmode\u001b[49m\u001b[43m,\u001b[49m\n\u001b[1;32m   1881\u001b[0m \u001b[43m    \u001b[49m\u001b[43mencoding\u001b[49m\u001b[38;5;241;43m=\u001b[39;49m\u001b[38;5;28;43mself\u001b[39;49m\u001b[38;5;241;43m.\u001b[39;49m\u001b[43moptions\u001b[49m\u001b[38;5;241;43m.\u001b[39;49m\u001b[43mget\u001b[49m\u001b[43m(\u001b[49m\u001b[38;5;124;43m\"\u001b[39;49m\u001b[38;5;124;43mencoding\u001b[39;49m\u001b[38;5;124;43m\"\u001b[39;49m\u001b[43m,\u001b[49m\u001b[43m \u001b[49m\u001b[38;5;28;43;01mNone\u001b[39;49;00m\u001b[43m)\u001b[49m\u001b[43m,\u001b[49m\n\u001b[1;32m   1882\u001b[0m \u001b[43m    \u001b[49m\u001b[43mcompression\u001b[49m\u001b[38;5;241;43m=\u001b[39;49m\u001b[38;5;28;43mself\u001b[39;49m\u001b[38;5;241;43m.\u001b[39;49m\u001b[43moptions\u001b[49m\u001b[38;5;241;43m.\u001b[39;49m\u001b[43mget\u001b[49m\u001b[43m(\u001b[49m\u001b[38;5;124;43m\"\u001b[39;49m\u001b[38;5;124;43mcompression\u001b[39;49m\u001b[38;5;124;43m\"\u001b[39;49m\u001b[43m,\u001b[49m\u001b[43m \u001b[49m\u001b[38;5;28;43;01mNone\u001b[39;49;00m\u001b[43m)\u001b[49m\u001b[43m,\u001b[49m\n\u001b[1;32m   1883\u001b[0m \u001b[43m    \u001b[49m\u001b[43mmemory_map\u001b[49m\u001b[38;5;241;43m=\u001b[39;49m\u001b[38;5;28;43mself\u001b[39;49m\u001b[38;5;241;43m.\u001b[39;49m\u001b[43moptions\u001b[49m\u001b[38;5;241;43m.\u001b[39;49m\u001b[43mget\u001b[49m\u001b[43m(\u001b[49m\u001b[38;5;124;43m\"\u001b[39;49m\u001b[38;5;124;43mmemory_map\u001b[39;49m\u001b[38;5;124;43m\"\u001b[39;49m\u001b[43m,\u001b[49m\u001b[43m \u001b[49m\u001b[38;5;28;43;01mFalse\u001b[39;49;00m\u001b[43m)\u001b[49m\u001b[43m,\u001b[49m\n\u001b[1;32m   1884\u001b[0m \u001b[43m    \u001b[49m\u001b[43mis_text\u001b[49m\u001b[38;5;241;43m=\u001b[39;49m\u001b[43mis_text\u001b[49m\u001b[43m,\u001b[49m\n\u001b[1;32m   1885\u001b[0m \u001b[43m    \u001b[49m\u001b[43merrors\u001b[49m\u001b[38;5;241;43m=\u001b[39;49m\u001b[38;5;28;43mself\u001b[39;49m\u001b[38;5;241;43m.\u001b[39;49m\u001b[43moptions\u001b[49m\u001b[38;5;241;43m.\u001b[39;49m\u001b[43mget\u001b[49m\u001b[43m(\u001b[49m\u001b[38;5;124;43m\"\u001b[39;49m\u001b[38;5;124;43mencoding_errors\u001b[39;49m\u001b[38;5;124;43m\"\u001b[39;49m\u001b[43m,\u001b[49m\u001b[43m \u001b[49m\u001b[38;5;124;43m\"\u001b[39;49m\u001b[38;5;124;43mstrict\u001b[39;49m\u001b[38;5;124;43m\"\u001b[39;49m\u001b[43m)\u001b[49m\u001b[43m,\u001b[49m\n\u001b[1;32m   1886\u001b[0m \u001b[43m    \u001b[49m\u001b[43mstorage_options\u001b[49m\u001b[38;5;241;43m=\u001b[39;49m\u001b[38;5;28;43mself\u001b[39;49m\u001b[38;5;241;43m.\u001b[39;49m\u001b[43moptions\u001b[49m\u001b[38;5;241;43m.\u001b[39;49m\u001b[43mget\u001b[49m\u001b[43m(\u001b[49m\u001b[38;5;124;43m\"\u001b[39;49m\u001b[38;5;124;43mstorage_options\u001b[39;49m\u001b[38;5;124;43m\"\u001b[39;49m\u001b[43m,\u001b[49m\u001b[43m \u001b[49m\u001b[38;5;28;43;01mNone\u001b[39;49;00m\u001b[43m)\u001b[49m\u001b[43m,\u001b[49m\n\u001b[1;32m   1887\u001b[0m \u001b[43m\u001b[49m\u001b[43m)\u001b[49m\n\u001b[1;32m   1888\u001b[0m \u001b[38;5;28;01massert\u001b[39;00m \u001b[38;5;28mself\u001b[39m\u001b[38;5;241m.\u001b[39mhandles \u001b[38;5;129;01mis\u001b[39;00m \u001b[38;5;129;01mnot\u001b[39;00m \u001b[38;5;28;01mNone\u001b[39;00m\n\u001b[1;32m   1889\u001b[0m f \u001b[38;5;241m=\u001b[39m \u001b[38;5;28mself\u001b[39m\u001b[38;5;241m.\u001b[39mhandles\u001b[38;5;241m.\u001b[39mhandle\n",
      "File \u001b[0;32m~/discord-bots/.venv/lib/python3.10/site-packages/pandas/io/common.py:873\u001b[0m, in \u001b[0;36mget_handle\u001b[0;34m(path_or_buf, mode, encoding, compression, memory_map, is_text, errors, storage_options)\u001b[0m\n\u001b[1;32m    868\u001b[0m \u001b[38;5;28;01melif\u001b[39;00m \u001b[38;5;28misinstance\u001b[39m(handle, \u001b[38;5;28mstr\u001b[39m):\n\u001b[1;32m    869\u001b[0m     \u001b[38;5;66;03m# Check whether the filename is to be opened in binary mode.\u001b[39;00m\n\u001b[1;32m    870\u001b[0m     \u001b[38;5;66;03m# Binary mode does not support 'encoding' and 'newline'.\u001b[39;00m\n\u001b[1;32m    871\u001b[0m     \u001b[38;5;28;01mif\u001b[39;00m ioargs\u001b[38;5;241m.\u001b[39mencoding \u001b[38;5;129;01mand\u001b[39;00m \u001b[38;5;124m\"\u001b[39m\u001b[38;5;124mb\u001b[39m\u001b[38;5;124m\"\u001b[39m \u001b[38;5;129;01mnot\u001b[39;00m \u001b[38;5;129;01min\u001b[39;00m ioargs\u001b[38;5;241m.\u001b[39mmode:\n\u001b[1;32m    872\u001b[0m         \u001b[38;5;66;03m# Encoding\u001b[39;00m\n\u001b[0;32m--> 873\u001b[0m         handle \u001b[38;5;241m=\u001b[39m \u001b[38;5;28;43mopen\u001b[39;49m\u001b[43m(\u001b[49m\n\u001b[1;32m    874\u001b[0m \u001b[43m            \u001b[49m\u001b[43mhandle\u001b[49m\u001b[43m,\u001b[49m\n\u001b[1;32m    875\u001b[0m \u001b[43m            \u001b[49m\u001b[43mioargs\u001b[49m\u001b[38;5;241;43m.\u001b[39;49m\u001b[43mmode\u001b[49m\u001b[43m,\u001b[49m\n\u001b[1;32m    876\u001b[0m \u001b[43m            \u001b[49m\u001b[43mencoding\u001b[49m\u001b[38;5;241;43m=\u001b[39;49m\u001b[43mioargs\u001b[49m\u001b[38;5;241;43m.\u001b[39;49m\u001b[43mencoding\u001b[49m\u001b[43m,\u001b[49m\n\u001b[1;32m    877\u001b[0m \u001b[43m            \u001b[49m\u001b[43merrors\u001b[49m\u001b[38;5;241;43m=\u001b[39;49m\u001b[43merrors\u001b[49m\u001b[43m,\u001b[49m\n\u001b[1;32m    878\u001b[0m \u001b[43m            \u001b[49m\u001b[43mnewline\u001b[49m\u001b[38;5;241;43m=\u001b[39;49m\u001b[38;5;124;43m\"\u001b[39;49m\u001b[38;5;124;43m\"\u001b[39;49m\u001b[43m,\u001b[49m\n\u001b[1;32m    879\u001b[0m \u001b[43m        \u001b[49m\u001b[43m)\u001b[49m\n\u001b[1;32m    880\u001b[0m     \u001b[38;5;28;01melse\u001b[39;00m:\n\u001b[1;32m    881\u001b[0m         \u001b[38;5;66;03m# Binary mode\u001b[39;00m\n\u001b[1;32m    882\u001b[0m         handle \u001b[38;5;241m=\u001b[39m \u001b[38;5;28mopen\u001b[39m(handle, ioargs\u001b[38;5;241m.\u001b[39mmode)\n",
      "\u001b[0;31mFileNotFoundError\u001b[0m: [Errno 2] No such file or directory: 'queue.csv'"
     ]
    }
   ],
   "source": [
    "# Create df_rotation, since no equivalent exists\n",
    "rotation_id = uuid4()\n",
    "df_rotation = pd.DataFrame(\n",
    "    data=[(\"CTF\", datetime.now(timezone.utc), rotation_id, False)],\n",
    "    columns=['name', 'created_at', 'id', 'is_random'],\n",
    ")\n",
    "# Load each csv file into a DataFrame\n",
    "df_queue = pd.read_csv('queue.csv', keep_default_na=False)\n",
    "df_queue_region = pd.read_csv('queue_region.csv', keep_default_na=False)\n",
    "df_player = pd.read_csv('player.csv',  keep_default_na=False)\n",
    "df_player_region_trueskill = pd.read_csv('player_region_trueskill.csv', keep_default_na=False)\n",
    "df_finished_game = pd.read_csv('finished_game.csv', keep_default_na=False)\n",
    "df_finished_game_player = pd.read_csv('finished_game_player.csv', keep_default_na=False)\n",
    "df_map = pd.read_csv('map.csv', keep_default_na=False)"
   ]
  },
  {
   "cell_type": "code",
   "execution_count": 5,
   "id": "ffaa118a",
   "metadata": {},
   "outputs": [
    {
     "data": {
      "text/html": [
       "<div>\n",
       "<style scoped>\n",
       "    .dataframe tbody tr th:only-of-type {\n",
       "        vertical-align: middle;\n",
       "    }\n",
       "\n",
       "    .dataframe tbody tr th {\n",
       "        vertical-align: top;\n",
       "    }\n",
       "\n",
       "    .dataframe thead th {\n",
       "        text-align: right;\n",
       "    }\n",
       "</style>\n",
       "<table border=\"1\" class=\"dataframe\">\n",
       "  <thead>\n",
       "    <tr style=\"text-align: right;\">\n",
       "      <th></th>\n",
       "      <th>name</th>\n",
       "      <th>created_at</th>\n",
       "      <th>id</th>\n",
       "      <th>is_random</th>\n",
       "    </tr>\n",
       "  </thead>\n",
       "  <tbody>\n",
       "    <tr>\n",
       "      <th>0</th>\n",
       "      <td>CTF</td>\n",
       "      <td>2024-04-18 18:27:43.102260+00:00</td>\n",
       "      <td>1b33ae9a-c237-4428-ac32-3e69b3b158cb</td>\n",
       "      <td>False</td>\n",
       "    </tr>\n",
       "  </tbody>\n",
       "</table>\n",
       "</div>"
      ],
      "text/plain": [
       "  name                       created_at                                    id  \\\n",
       "0  CTF 2024-04-18 18:27:43.102260+00:00  1b33ae9a-c237-4428-ac32-3e69b3b158cb   \n",
       "\n",
       "   is_random  \n",
       "0      False  "
      ]
     },
     "execution_count": 5,
     "metadata": {},
     "output_type": "execute_result"
    }
   ],
   "source": [
    "# rotation\n",
    "df_rotation"
   ]
  },
  {
   "cell_type": "code",
   "execution_count": null,
   "id": "c39522e5",
   "metadata": {
    "scrolled": true
   },
   "outputs": [],
   "source": [
    "# map\n",
    "rotation_index = df_map['rotation_index']\n",
    "# drop the extra columns after each rotation_map has been created, since we need them for creating rotation_map entries\n",
    "df_map['created_at'] = datetime.now(timezone.utc)\n",
    "df_map"
   ]
  },
  {
   "cell_type": "code",
   "execution_count": null,
   "id": "814f835d",
   "metadata": {},
   "outputs": [],
   "source": [
    "# Create df_rotation_map, since no equivalent exists\n",
    "data = []\n",
    "columns = [\n",
    "    'created_at',\n",
    "    'id',\n",
    "    'raffle_ticket_reward',\n",
    "    'is_random',\n",
    "    'random_probability',\n",
    "    'ordinal',\n",
    "    'rotation_id',\n",
    "    'map_id',\n",
    "    'is_next',\n",
    "    'updated_at',\n",
    "]\n",
    "for i, row in df_map.iterrows():\n",
    "    data.append(\n",
    "        (\n",
    "            datetime.now(timezone.utc),\n",
    "            uuid4(),\n",
    "            0,\n",
    "            False,\n",
    "            0,\n",
    "            row['rotation_index'],\n",
    "            df_rotation['id'].values[0],\n",
    "            row['id'],\n",
    "            True if row['full_name'] == 'Elite' else False,\n",
    "            datetime.now(timezone.utc),\n",
    "        )\n",
    "    )\n",
    "df_rotation_map = pd.DataFrame(\n",
    "    data=data,\n",
    "    columns=columns,\n",
    ")\n",
    "df_rotation_map"
   ]
  },
  {
   "cell_type": "code",
   "execution_count": null,
   "id": "0a938516",
   "metadata": {},
   "outputs": [],
   "source": [
    "# map (drop the extra columns)\n",
    "df_map = df_map.drop(\n",
    "    labels=[\n",
    "        'rotation_index', \n",
    "        'rotation_weight',\n",
    "        'is_votable',\n",
    "    ],\n",
    "    axis=1,\n",
    "    errors='ignore',\n",
    ")\n",
    "df_map"
   ]
  },
  {
   "cell_type": "code",
   "execution_count": null,
   "id": "090bf715",
   "metadata": {},
   "outputs": [],
   "source": [
    "# queue_region -> category\n",
    "df_queue_region['is_rated'] = True\n",
    "df_queue_region['created_at'] = datetime.now(timezone.utc)\n",
    "df_queue_region"
   ]
  },
  {
   "cell_type": "code",
   "execution_count": null,
   "id": "8b2dc3a7",
   "metadata": {},
   "outputs": [],
   "source": [
    "# Migrate Queue\n",
    "df_queue.rename(columns={\"queue_region_id\": \"category_id\"}, inplace=True)\n",
    "df_queue['is_sweaty'] = False\n",
    "df_queue['mu_max'] = None\n",
    "df_queue['mu_min'] = None\n",
    "df_queue['ordinal'] = 0\n",
    "df_queue['rotation_id'] = rotation_id\n",
    "df_queue['move_enabled'] = False\n",
    "df_queue['currency_award'] = None\n",
    "df_queue['vote_threshold'] = None\n",
    "df_queue.loc[df_queue['name'] == 'NA', ['ordinal']] = 1\n",
    "df_queue.loc[df_queue['name'] == 'EU', ['ordinal']] = 2\n",
    "df_queue.loc[df_queue['name'] == 'NaWest', ['ordinal']] = 3\n",
    "df_queue"
   ]
  },
  {
   "cell_type": "code",
   "execution_count": null,
   "id": "13bb7a40",
   "metadata": {
    "scrolled": true
   },
   "outputs": [],
   "source": [
    "# player\n",
    "df_player['raffle_tickets'] = 0\n",
    "df_player['leaderboard_enabled'] = True\n",
    "df_player['stats_enabled'] = True\n",
    "df_player['move_enabled'] = False\n",
    "df_player['currency'] = 0\n",
    "df_player = df_player.drop(labels=['unrated_trueskill_mu', 'unrated_trueskill_sigma'], axis=1)\n",
    "df_player"
   ]
  },
  {
   "cell_type": "code",
   "execution_count": null,
   "id": "b041fe16",
   "metadata": {},
   "outputs": [],
   "source": [
    "df_player_region_trueskill"
   ]
  },
  {
   "cell_type": "code",
   "execution_count": null,
   "id": "ebd9926e",
   "metadata": {
    "scrolled": true
   },
   "outputs": [],
   "source": [
    "# player_region_trueskill -> player_category_trueskill\n",
    "df_player_region_trueskill = df_player_region_trueskill.drop(\n",
    "    labels=[\n",
    "        'unrated_trueskill_mu', \n",
    "        'unrated_trueskill_sigma',\n",
    "    ],\n",
    "    axis=1,\n",
    "    errors='ignore',\n",
    ")\n",
    "df_player_region_trueskill['rank'] = df_player_region_trueskill['rated_trueskill_mu'] - (3 * df_player_region_trueskill['rated_trueskill_sigma'])\n",
    "df_player_region_trueskill.rename(\n",
    "    columns={\n",
    "        \"queue_region_id\": \"category_id\",\n",
    "        \"rated_trueskill_mu\": \"mu\",\n",
    "        \"rated_trueskill_sigma\": \"sigma\",\n",
    "    },\n",
    "    inplace=True,\n",
    ")\n",
    "df_player_region_trueskill"
   ]
  },
  {
   "cell_type": "code",
   "execution_count": null,
   "id": "db5a46b0",
   "metadata": {},
   "outputs": [],
   "source": [
    "# finished_game\n",
    "df_finished_game.rename(columns={\"queue_region_name\": \"category_name\"}, inplace=True)\n",
    "df_finished_game"
   ]
  },
  {
   "cell_type": "code",
   "execution_count": null,
   "id": "43f364ef",
   "metadata": {
    "scrolled": true
   },
   "outputs": [],
   "source": [
    "# finished_game_player\n",
    "df_finished_game_player = df_finished_game_player.drop(\n",
    "    labels=[\n",
    "        'unrated_trueskill_mu_before', \n",
    "        'unrated_trueskill_sigma_before',\n",
    "        'unrated_trueskill_mu_after', \n",
    "        'unrated_trueskill_sigma_after',\n",
    "    ],\n",
    "    axis=1,\n",
    "    errors='ignore',\n",
    ")\n",
    "df_finished_game_player"
   ]
  },
  {
   "cell_type": "code",
   "execution_count": null,
   "id": "7fb48b6a",
   "metadata": {},
   "outputs": [],
   "source": [
    "# Ensure the corresponding tables are clean\n",
    "with engine.connect() as con:\n",
    "    con.execute('DELETE FROM finished_game_player')\n",
    "    con.execute('DELETE FROM finished_game')\n",
    "    con.execute('DELETE FROM player_category_trueskill')\n",
    "    con.execute('DELETE FROM player')\n",
    "    con.execute('DELETE FROM queue')\n",
    "    con.execute('DELETE FROM category')\n",
    "    con.execute('DELETE FROM rotation_map')\n",
    "    con.execute('DELETE FROM map')\n",
    "    con.execute('DELETE FROM rotation')"
   ]
  },
  {
   "cell_type": "code",
   "execution_count": null,
   "id": "c0f7d0da",
   "metadata": {},
   "outputs": [],
   "source": [
    "# Insert dataframes into the DB\n",
    "df_queue_region.to_sql(\"category\", engine, if_exists=\"append\", index=False)\n",
    "df_map.to_sql(\"map\", engine, if_exists=\"append\", index=False)\n",
    "df_rotation.to_sql(\"rotation\", engine, if_exists=\"append\", index=False)\n",
    "df_rotation_map.to_sql(\"rotation_map\", engine, if_exists=\"append\", index=False)\n",
    "df_queue.to_sql(\"queue\", engine, if_exists=\"append\", index=False)\n",
    "df_player.to_sql(\"player\", engine, if_exists=\"append\", index=False)\n",
    "df_player_region_trueskill.to_sql(\"player_category_trueskill\", engine, if_exists=\"append\", index=False)\n",
    "df_finished_game.to_sql(\"finished_game\", engine, if_exists=\"append\", index=False)\n",
    "df_finished_game_player.to_sql(\"finished_game_player\", engine, if_exists=\"append\", index=False)"
   ]
  },
  {
   "cell_type": "code",
   "execution_count": null,
   "id": "82ed72f8",
   "metadata": {},
   "outputs": [],
   "source": []
  }
 ],
 "metadata": {
  "kernelspec": {
   "display_name": "Python 3 (ipykernel)",
   "language": "python",
   "name": "python3"
  },
  "language_info": {
   "codemirror_mode": {
    "name": "ipython",
    "version": 3
   },
   "file_extension": ".py",
   "mimetype": "text/x-python",
   "name": "python",
   "nbconvert_exporter": "python",
   "pygments_lexer": "ipython3",
   "version": "3.10.12"
  }
 },
 "nbformat": 4,
 "nbformat_minor": 5
}
