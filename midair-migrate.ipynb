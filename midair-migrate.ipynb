{
 "cells": [
  {
   "cell_type": "code",
   "execution_count": null,
   "id": "7d320bc5",
   "metadata": {},
   "outputs": [],
   "source": [
    "import pandas as pd\n",
    "from datetime import datetime, timezone\n",
    "from sqlalchemy import create_engine\n",
    "from uuid import uuid4"
   ]
  },
  {
   "cell_type": "code",
   "execution_count": null,
   "id": "10ab72fc",
   "metadata": {},
   "outputs": [],
   "source": [
    "# Fill in your DB info\n",
    "user_name = \"postgres\"\n",
    "password = \"password\"\n",
    "db_name = \"postgres\"\n",
    "db_ip = \"localhost\"\n",
    "port = \"5432\"\n",
    "# Connect to the database\n",
    "engine = create_engine(f'postgresql://{user_name}:{password}@{db_ip}:{port}/{db_name}')"
   ]
  },
  {
   "cell_type": "code",
   "execution_count": null,
   "id": "195b170a",
   "metadata": {},
   "outputs": [],
   "source": [
    "# Create df_rotation, since no equivalent exists\n",
    "rotation_id = uuid4()\n",
    "df_rotation = pd.DataFrame(\n",
    "    data=[(\"CTF\", datetime.now(timezone.utc), rotation_id, False)],\n",
    "    columns=['name', 'created_at', 'id', 'is_random'],\n",
    ")\n",
    "# Load each csv file into a DataFrame\n",
    "df_queue = pd.read_csv('queue.csv', keep_default_na=False)\n",
    "df_queue_region = pd.read_csv('queue_region.csv', keep_default_na=False)\n",
    "df_player = pd.read_csv('player.csv',  keep_default_na=False)\n",
    "df_player_region_trueskill = pd.read_csv('player_region_trueskill.csv', keep_default_na=False)\n",
    "df_finished_game = pd.read_csv('finished_game.csv', keep_default_na=False)\n",
    "df_finished_game_player = pd.read_csv('finished_game_player.csv', keep_default_na=False)\n",
    "df_map = pd.read_csv('map.csv', keep_default_na=False)"
   ]
  },
  {
   "cell_type": "code",
   "execution_count": null,
   "id": "ffaa118a",
   "metadata": {},
   "outputs": [],
   "source": [
    "# rotation\n",
    "df_rotation"
   ]
  },
  {
   "cell_type": "code",
   "execution_count": null,
   "id": "c39522e5",
   "metadata": {
    "scrolled": true
   },
   "outputs": [],
   "source": [
    "# map\n",
    "rotation_index = df_map['rotation_index']\n",
    "# drop the extra columns after each rotation_map has been created, since we need them for creating rotation_map entries\n",
    "df_map['created_at'] = datetime.now(timezone.utc)\n",
    "df_map"
   ]
  },
  {
   "cell_type": "code",
   "execution_count": null,
   "id": "814f835d",
   "metadata": {},
   "outputs": [],
   "source": [
    "# Create df_rotation_map, since no equivalent exists\n",
    "data = []\n",
    "columns = [\n",
    "    'created_at',\n",
    "    'id',\n",
    "    'raffle_ticket_reward',\n",
    "    'is_random',\n",
    "    'random_probability',\n",
    "    'ordinal',\n",
    "    'rotation_id',\n",
    "    'map_id',\n",
    "    'is_next',\n",
    "    'updated_at',\n",
    "]\n",
    "for i, row in df_map.iterrows():\n",
    "    data.append(\n",
    "        (\n",
    "            datetime.now(timezone.utc),\n",
    "            uuid4(),\n",
    "            0,\n",
    "            False,\n",
    "            0,\n",
    "            row['rotation_index'],\n",
    "            df_rotation['id'].values[0],\n",
    "            row['id'],\n",
    "            True if row['full_name'] == 'Elite' else False,\n",
    "            datetime.now(timezone.utc),\n",
    "        )\n",
    "    )\n",
    "df_rotation_map = pd.DataFrame(\n",
    "    data=data,\n",
    "    columns=columns,\n",
    ")\n",
    "df_rotation_map"
   ]
  },
  {
   "cell_type": "code",
   "execution_count": null,
   "id": "0a938516",
   "metadata": {},
   "outputs": [],
   "source": [
    "# map (drop the extra columns)\n",
    "df_map = df_map.drop(\n",
    "    labels=[\n",
    "        'rotation_index', \n",
    "        'rotation_weight',\n",
    "        'is_votable',\n",
    "    ],\n",
    "    axis=1,\n",
    "    errors='ignore',\n",
    ")\n",
    "df_map"
   ]
  },
  {
   "cell_type": "code",
   "execution_count": null,
   "id": "090bf715",
   "metadata": {},
   "outputs": [],
   "source": [
    "# queue_region -> category\n",
    "df_queue_region['is_rated'] = True\n",
    "df_queue_region['created_at'] = datetime.now(timezone.utc)\n",
    "df_queue_region"
   ]
  },
  {
   "cell_type": "code",
   "execution_count": null,
   "id": "8b2dc3a7",
   "metadata": {},
   "outputs": [],
   "source": [
    "# Migrate Queue\n",
    "df_queue.rename(columns={\"queue_region_id\": \"category_id\"}, inplace=True)\n",
    "df_queue['is_sweaty'] = False\n",
    "df_queue['mu_max'] = None\n",
    "df_queue['mu_min'] = None\n",
    "df_queue['ordinal'] = 0\n",
    "df_queue['rotation_id'] = rotation_id\n",
    "df_queue['move_enabled'] = False\n",
    "df_queue['currency_award'] = None\n",
    "df_queue['vote_threshold'] = None\n",
    "df_queue.loc[df_queue['name'] == 'NA', ['ordinal']] = 1\n",
    "df_queue.loc[df_queue['name'] == 'EU', ['ordinal']] = 2\n",
    "df_queue.loc[df_queue['name'] == 'NaWest', ['ordinal']] = 3\n",
    "df_queue"
   ]
  },
  {
   "cell_type": "code",
   "execution_count": null,
   "id": "13bb7a40",
   "metadata": {
    "scrolled": true
   },
   "outputs": [],
   "source": [
    "# player\n",
    "df_player['raffle_tickets'] = 0\n",
    "df_player['leaderboard_enabled'] = True\n",
    "df_player['stats_enabled'] = True\n",
    "df_player['move_enabled'] = False\n",
    "df_player['currency'] = 0\n",
    "df_player = df_player.drop(labels=['unrated_trueskill_mu', 'unrated_trueskill_sigma'], axis=1)\n",
    "df_player"
   ]
  },
  {
   "cell_type": "code",
   "execution_count": null,
   "id": "b041fe16",
   "metadata": {},
   "outputs": [],
   "source": [
    "df_player_region_trueskill"
   ]
  },
  {
   "cell_type": "code",
   "execution_count": null,
   "id": "ebd9926e",
   "metadata": {
    "scrolled": true
   },
   "outputs": [],
   "source": [
    "# player_region_trueskill -> player_category_trueskill\n",
    "df_player_region_trueskill = df_player_region_trueskill.drop(\n",
    "    labels=[\n",
    "        'unrated_trueskill_mu', \n",
    "        'unrated_trueskill_sigma',\n",
    "    ],\n",
    "    axis=1,\n",
    "    errors='ignore',\n",
    ")\n",
    "df_player_region_trueskill['rank'] = df_player_region_trueskill['rated_trueskill_mu'] - (3 * df_player_region_trueskill['rated_trueskill_sigma'])\n",
    "df_player_region_trueskill.rename(\n",
    "    columns={\n",
    "        \"queue_region_id\": \"category_id\",\n",
    "        \"rated_trueskill_mu\": \"mu\",\n",
    "        \"rated_trueskill_sigma\": \"sigma\",\n",
    "    },\n",
    "    inplace=True,\n",
    ")\n",
    "df_player_region_trueskill"
   ]
  },
  {
   "cell_type": "code",
   "execution_count": null,
   "id": "db5a46b0",
   "metadata": {},
   "outputs": [],
   "source": [
    "# finished_game\n",
    "df_finished_game.rename(columns={\"queue_region_name\": \"category_name\"}, inplace=True)\n",
    "df_finished_game"
   ]
  },
  {
   "cell_type": "code",
   "execution_count": null,
   "id": "43f364ef",
   "metadata": {
    "scrolled": true
   },
   "outputs": [],
   "source": [
    "# finished_game_player\n",
    "df_finished_game_player = df_finished_game_player.drop(\n",
    "    labels=[\n",
    "        'unrated_trueskill_mu_before', \n",
    "        'unrated_trueskill_sigma_before',\n",
    "        'unrated_trueskill_mu_after', \n",
    "        'unrated_trueskill_sigma_after',\n",
    "    ],\n",
    "    axis=1,\n",
    "    errors='ignore',\n",
    ")\n",
    "df_finished_game_player"
   ]
  },
  {
   "cell_type": "code",
   "execution_count": null,
   "id": "7fb48b6a",
   "metadata": {},
   "outputs": [],
   "source": [
    "# Ensure the corresponding tables are clean\n",
    "with engine.connect() as con:\n",
    "    con.execute('DELETE FROM finished_game_player')\n",
    "    con.execute('DELETE FROM finished_game')\n",
    "    con.execute('DELETE FROM player_category_trueskill')\n",
    "    con.execute('DELETE FROM player')\n",
    "    con.execute('DELETE FROM queue')\n",
    "    con.execute('DELETE FROM category')\n",
    "    con.execute('DELETE FROM rotation_map')\n",
    "    con.execute('DELETE FROM map')\n",
    "    con.execute('DELETE FROM rotation')"
   ]
  },
  {
   "cell_type": "code",
   "execution_count": null,
   "id": "c0f7d0da",
   "metadata": {},
   "outputs": [],
   "source": [
    "# Insert dataframes into the DB\n",
    "df_queue_region.to_sql(\"category\", engine, if_exists=\"append\", index=False)\n",
    "df_map.to_sql(\"map\", engine, if_exists=\"append\", index=False)\n",
    "df_rotation.to_sql(\"rotation\", engine, if_exists=\"append\", index=False)\n",
    "df_rotation_map.to_sql(\"rotation_map\", engine, if_exists=\"append\", index=False)\n",
    "df_queue.to_sql(\"queue\", engine, if_exists=\"append\", index=False)\n",
    "df_player.to_sql(\"player\", engine, if_exists=\"append\", index=False)\n",
    "df_player_region_trueskill.to_sql(\"player_category_trueskill\", engine, if_exists=\"append\", index=False)\n",
    "df_finished_game.to_sql(\"finished_game\", engine, if_exists=\"append\", index=False)\n",
    "df_finished_game_player.to_sql(\"finished_game_player\", engine, if_exists=\"append\", index=False)"
   ]
  },
  {
   "cell_type": "code",
   "execution_count": null,
   "id": "82ed72f8",
   "metadata": {},
   "outputs": [],
   "source": []
  }
 ],
 "metadata": {
  "kernelspec": {
   "display_name": "Python 3 (ipykernel)",
   "language": "python",
   "name": "python3"
  },
  "language_info": {
   "codemirror_mode": {
    "name": "ipython",
    "version": 3
   },
   "file_extension": ".py",
   "mimetype": "text/x-python",
   "name": "python",
   "nbconvert_exporter": "python",
   "pygments_lexer": "ipython3",
   "version": "3.10.12"
  }
 },
 "nbformat": 4,
 "nbformat_minor": 5
}
